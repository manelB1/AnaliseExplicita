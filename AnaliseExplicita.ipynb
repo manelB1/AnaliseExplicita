{
  "nbformat": 4,
  "nbformat_minor": 0,
  "metadata": {
    "colab": {
      "name": "AnaliseExplicita.ipynb",
      "provenance": [],
      "include_colab_link": true
    },
    "kernelspec": {
      "name": "python3",
      "display_name": "Python 3"
    },
    "language_info": {
      "name": "python"
    }
  },
  "cells": [
    {
      "cell_type": "markdown",
      "metadata": {
        "id": "view-in-github",
        "colab_type": "text"
      },
      "source": [
        "<a href=\"https://colab.research.google.com/github/manelB1/AnaliseExplicita/blob/main/AnaliseExplicita.ipynb\" target=\"_parent\"><img src=\"https://colab.research.google.com/assets/colab-badge.svg\" alt=\"Open In Colab\"/></a>"
      ]
    },
    {
      "cell_type": "code",
      "execution_count": null,
      "metadata": {
        "colab": {
          "base_uri": "https://localhost:8080/"
        },
        "id": "qddH6bw8BD5Y",
        "outputId": "6b072465-ff9d-4b44-e8b2-277ea06aeb5e"
      },
      "outputs": [
        {
          "output_type": "stream",
          "name": "stdout",
          "text": [
            "Mounted at /content/drive\n"
          ]
        }
      ],
      "source": [
        "from google.colab import drive\n",
        "drive.mount('/content/drive')"
      ]
    },
    {
      "cell_type": "code",
      "source": [
        "import pandas as pd\n",
        "import numpy as np\n",
        "import matplotlib.pyplot as plt\n",
        "import seaborn as sb\n",
        "from wordcloud import WordCloud, STOPWORDS"
      ],
      "metadata": {
        "id": "g2LpuM2gEEsC"
      },
      "execution_count": null,
      "outputs": []
    },
    {
      "cell_type": "code",
      "source": [
        "%cd drive/MyDrive/"
      ],
      "metadata": {
        "colab": {
          "base_uri": "https://localhost:8080/"
        },
        "id": "UM32cDgbD2kA",
        "outputId": "84f032a3-191f-4b46-e331-e02225c9d27b"
      },
      "execution_count": null,
      "outputs": [
        {
          "output_type": "stream",
          "name": "stdout",
          "text": [
            "/content/drive/MyDrive\n"
          ]
        }
      ]
    },
    {
      "cell_type": "code",
      "source": [
        "df = pd.read_csv('cars_dataset.csv')"
      ],
      "metadata": {
        "id": "sp_w5ffnD_d1"
      },
      "execution_count": null,
      "outputs": []
    },
    {
      "cell_type": "code",
      "source": [
        "df.head()"
      ],
      "metadata": {
        "colab": {
          "base_uri": "https://localhost:8080/",
          "height": 206
        },
        "id": "zSOYIOGeK5te",
        "outputId": "0b0be019-d5de-47d4-b4b5-1ae4b9f49e06"
      },
      "execution_count": null,
      "outputs": [
        {
          "output_type": "execute_result",
          "data": {
            "text/html": [
              "\n",
              "  <div id=\"df-2b7b697f-887e-4fa7-8ac9-1f76aa37c331\">\n",
              "    <div class=\"colab-df-container\">\n",
              "      <div>\n",
              "<style scoped>\n",
              "    .dataframe tbody tr th:only-of-type {\n",
              "        vertical-align: middle;\n",
              "    }\n",
              "\n",
              "    .dataframe tbody tr th {\n",
              "        vertical-align: top;\n",
              "    }\n",
              "\n",
              "    .dataframe thead th {\n",
              "        text-align: right;\n",
              "    }\n",
              "</style>\n",
              "<table border=\"1\" class=\"dataframe\">\n",
              "  <thead>\n",
              "    <tr style=\"text-align: right;\">\n",
              "      <th></th>\n",
              "      <th>model</th>\n",
              "      <th>year</th>\n",
              "      <th>price</th>\n",
              "      <th>transmission</th>\n",
              "      <th>mileage</th>\n",
              "      <th>fuelType</th>\n",
              "      <th>tax</th>\n",
              "      <th>mpg</th>\n",
              "      <th>engineSize</th>\n",
              "      <th>Make</th>\n",
              "    </tr>\n",
              "  </thead>\n",
              "  <tbody>\n",
              "    <tr>\n",
              "      <th>0</th>\n",
              "      <td>A1</td>\n",
              "      <td>2017</td>\n",
              "      <td>12500</td>\n",
              "      <td>Manual</td>\n",
              "      <td>15735</td>\n",
              "      <td>Petrol</td>\n",
              "      <td>150.0</td>\n",
              "      <td>55.4</td>\n",
              "      <td>1.4</td>\n",
              "      <td>audi</td>\n",
              "    </tr>\n",
              "    <tr>\n",
              "      <th>1</th>\n",
              "      <td>A6</td>\n",
              "      <td>2016</td>\n",
              "      <td>16500</td>\n",
              "      <td>Automatic</td>\n",
              "      <td>36203</td>\n",
              "      <td>Diesel</td>\n",
              "      <td>20.0</td>\n",
              "      <td>64.2</td>\n",
              "      <td>2.0</td>\n",
              "      <td>audi</td>\n",
              "    </tr>\n",
              "    <tr>\n",
              "      <th>2</th>\n",
              "      <td>A1</td>\n",
              "      <td>2016</td>\n",
              "      <td>11000</td>\n",
              "      <td>Manual</td>\n",
              "      <td>29946</td>\n",
              "      <td>Petrol</td>\n",
              "      <td>30.0</td>\n",
              "      <td>55.4</td>\n",
              "      <td>1.4</td>\n",
              "      <td>audi</td>\n",
              "    </tr>\n",
              "    <tr>\n",
              "      <th>3</th>\n",
              "      <td>A4</td>\n",
              "      <td>2017</td>\n",
              "      <td>16800</td>\n",
              "      <td>Automatic</td>\n",
              "      <td>25952</td>\n",
              "      <td>Diesel</td>\n",
              "      <td>145.0</td>\n",
              "      <td>67.3</td>\n",
              "      <td>2.0</td>\n",
              "      <td>audi</td>\n",
              "    </tr>\n",
              "    <tr>\n",
              "      <th>4</th>\n",
              "      <td>A3</td>\n",
              "      <td>2019</td>\n",
              "      <td>17300</td>\n",
              "      <td>Manual</td>\n",
              "      <td>1998</td>\n",
              "      <td>Petrol</td>\n",
              "      <td>145.0</td>\n",
              "      <td>49.6</td>\n",
              "      <td>1.0</td>\n",
              "      <td>audi</td>\n",
              "    </tr>\n",
              "  </tbody>\n",
              "</table>\n",
              "</div>\n",
              "      <button class=\"colab-df-convert\" onclick=\"convertToInteractive('df-2b7b697f-887e-4fa7-8ac9-1f76aa37c331')\"\n",
              "              title=\"Convert this dataframe to an interactive table.\"\n",
              "              style=\"display:none;\">\n",
              "        \n",
              "  <svg xmlns=\"http://www.w3.org/2000/svg\" height=\"24px\"viewBox=\"0 0 24 24\"\n",
              "       width=\"24px\">\n",
              "    <path d=\"M0 0h24v24H0V0z\" fill=\"none\"/>\n",
              "    <path d=\"M18.56 5.44l.94 2.06.94-2.06 2.06-.94-2.06-.94-.94-2.06-.94 2.06-2.06.94zm-11 1L8.5 8.5l.94-2.06 2.06-.94-2.06-.94L8.5 2.5l-.94 2.06-2.06.94zm10 10l.94 2.06.94-2.06 2.06-.94-2.06-.94-.94-2.06-.94 2.06-2.06.94z\"/><path d=\"M17.41 7.96l-1.37-1.37c-.4-.4-.92-.59-1.43-.59-.52 0-1.04.2-1.43.59L10.3 9.45l-7.72 7.72c-.78.78-.78 2.05 0 2.83L4 21.41c.39.39.9.59 1.41.59.51 0 1.02-.2 1.41-.59l7.78-7.78 2.81-2.81c.8-.78.8-2.07 0-2.86zM5.41 20L4 18.59l7.72-7.72 1.47 1.35L5.41 20z\"/>\n",
              "  </svg>\n",
              "      </button>\n",
              "      \n",
              "  <style>\n",
              "    .colab-df-container {\n",
              "      display:flex;\n",
              "      flex-wrap:wrap;\n",
              "      gap: 12px;\n",
              "    }\n",
              "\n",
              "    .colab-df-convert {\n",
              "      background-color: #E8F0FE;\n",
              "      border: none;\n",
              "      border-radius: 50%;\n",
              "      cursor: pointer;\n",
              "      display: none;\n",
              "      fill: #1967D2;\n",
              "      height: 32px;\n",
              "      padding: 0 0 0 0;\n",
              "      width: 32px;\n",
              "    }\n",
              "\n",
              "    .colab-df-convert:hover {\n",
              "      background-color: #E2EBFA;\n",
              "      box-shadow: 0px 1px 2px rgba(60, 64, 67, 0.3), 0px 1px 3px 1px rgba(60, 64, 67, 0.15);\n",
              "      fill: #174EA6;\n",
              "    }\n",
              "\n",
              "    [theme=dark] .colab-df-convert {\n",
              "      background-color: #3B4455;\n",
              "      fill: #D2E3FC;\n",
              "    }\n",
              "\n",
              "    [theme=dark] .colab-df-convert:hover {\n",
              "      background-color: #434B5C;\n",
              "      box-shadow: 0px 1px 3px 1px rgba(0, 0, 0, 0.15);\n",
              "      filter: drop-shadow(0px 1px 2px rgba(0, 0, 0, 0.3));\n",
              "      fill: #FFFFFF;\n",
              "    }\n",
              "  </style>\n",
              "\n",
              "      <script>\n",
              "        const buttonEl =\n",
              "          document.querySelector('#df-2b7b697f-887e-4fa7-8ac9-1f76aa37c331 button.colab-df-convert');\n",
              "        buttonEl.style.display =\n",
              "          google.colab.kernel.accessAllowed ? 'block' : 'none';\n",
              "\n",
              "        async function convertToInteractive(key) {\n",
              "          const element = document.querySelector('#df-2b7b697f-887e-4fa7-8ac9-1f76aa37c331');\n",
              "          const dataTable =\n",
              "            await google.colab.kernel.invokeFunction('convertToInteractive',\n",
              "                                                     [key], {});\n",
              "          if (!dataTable) return;\n",
              "\n",
              "          const docLinkHtml = 'Like what you see? Visit the ' +\n",
              "            '<a target=\"_blank\" href=https://colab.research.google.com/notebooks/data_table.ipynb>data table notebook</a>'\n",
              "            + ' to learn more about interactive tables.';\n",
              "          element.innerHTML = '';\n",
              "          dataTable['output_type'] = 'display_data';\n",
              "          await google.colab.output.renderOutput(dataTable, element);\n",
              "          const docLink = document.createElement('div');\n",
              "          docLink.innerHTML = docLinkHtml;\n",
              "          element.appendChild(docLink);\n",
              "        }\n",
              "      </script>\n",
              "    </div>\n",
              "  </div>\n",
              "  "
            ],
            "text/plain": [
              "  model  year  price transmission  ...    tax   mpg  engineSize  Make\n",
              "0    A1  2017  12500       Manual  ...  150.0  55.4         1.4  audi\n",
              "1    A6  2016  16500    Automatic  ...   20.0  64.2         2.0  audi\n",
              "2    A1  2016  11000       Manual  ...   30.0  55.4         1.4  audi\n",
              "3    A4  2017  16800    Automatic  ...  145.0  67.3         2.0  audi\n",
              "4    A3  2019  17300       Manual  ...  145.0  49.6         1.0  audi\n",
              "\n",
              "[5 rows x 10 columns]"
            ]
          },
          "metadata": {},
          "execution_count": 5
        }
      ]
    },
    {
      "cell_type": "code",
      "source": [
        "df_group = df.groupby('Make')"
      ],
      "metadata": {
        "id": "O0aG8KLgHE4M"
      },
      "execution_count": null,
      "outputs": []
    },
    {
      "cell_type": "code",
      "source": [
        "df_group.describe().transpose()"
      ],
      "metadata": {
        "id": "gD9V6JoLK9_D"
      },
      "execution_count": null,
      "outputs": []
    },
    {
      "cell_type": "code",
      "source": [
        "#Agrupando por marca\n",
        "audi = df_group.get_group('audi')\n",
        "BMW = df_group.get_group('BMW')\n",
        "Ford = df_group.get_group('Ford')\n",
        "Hyundai = df_group.get_group('Hyundai')\n",
        "skoda = df_group.get_group('skoda')\n",
        "toyota = df_group.get_group('toyota')\n",
        "vw = df_group.get_group('vw')"
      ],
      "metadata": {
        "id": "Zbagu1rmO5Ae"
      },
      "execution_count": null,
      "outputs": []
    },
    {
      "cell_type": "code",
      "source": [
        "# QUAL MARCA POSSUI O CARRO COM MAIOR AUTONOMIA\n",
        "# QUAL MARCA POSSUI O CARRO COM MENOR AUTONOMIA\n",
        "# QUAL MARCA POSSUI O CARRO COM MAIOR MEDIA DE PREÇO\n",
        "# QUAL MARCA POSSUI O CARRO COM MENOR MEDIA DE PREÇO\n",
        "# QUAL MARCA POSSUI O CARRO COM MAIOR CUSTO BENEFICIO\n",
        "# QUAL MARCA POSSUI O CARRO COM MENOR CUSTO BENEFICIO"
      ],
      "metadata": {
        "id": "It64QrXrN0tJ"
      },
      "execution_count": null,
      "outputs": []
    },
    {
      "cell_type": "code",
      "source": [
        "audi_mpg = audi['mpg'].mean()\n",
        "BMW_mpg = BMW['mpg'].mean()\n",
        "Ford_mpg = Ford['mpg'].mean()\n",
        "Hyundai_mpg = Hyundai['mpg'].mean()\n",
        "skoda_mpg = skoda['mpg'].mean()\n",
        "toyota_mpg = toyota['mpg'].mean()\n",
        "vw_mpg = vw['mpg'].mean()"
      ],
      "metadata": {
        "id": "a4GspeEgOlNe"
      },
      "execution_count": null,
      "outputs": []
    },
    {
      "cell_type": "code",
      "source": [
        "marcas_autonomia =\t{\n",
        "  \"audi\": audi_mpg,\n",
        "  \"BMW\": BMW_mpg,\n",
        "  \"Ford\": Ford_mpg,\n",
        "  \"Hyundai\": Hyundai_mpg,\n",
        "  \"skoda\": skoda_mpg,\n",
        "  \"toyota\": toyota_mpg,\n",
        "  \"vw\": vw_mpg\n",
        "}"
      ],
      "metadata": {
        "id": "tsTUppjcQ3jj"
      },
      "execution_count": null,
      "outputs": []
    },
    {
      "cell_type": "code",
      "source": [
        "def retornaMaior(dic):\n",
        "    aux = 0\n",
        "    for m in dic:\n",
        "        if dic[m] > aux:\n",
        "            aux = dic[m]\n",
        "            maior = m\n",
        "    return maior,aux\n",
        "\n",
        "def retornaMenor(dic):\n",
        "    aux = 50000\n",
        "    for m in dic:\n",
        "        if dic[m] < aux:\n",
        "            aux = dic[m]\n",
        "            menor = m\n",
        "    return menor,aux"
      ],
      "metadata": {
        "id": "MJ2aZG5YRlUu"
      },
      "execution_count": null,
      "outputs": []
    },
    {
      "cell_type": "markdown",
      "source": [
        "**QUAL MARCA POSSUI O CARRO COM MAIOR AUTONOMIA**"
      ],
      "metadata": {
        "id": "JFXxdlitOnbO"
      }
    },
    {
      "cell_type": "code",
      "source": [
        "maior,valor = retornaMaior(marcas_autonomia)\n",
        "print(\"A marca com maior autonomia é a \" + maior + \" com \" + str(valor) + \" de autonomia\")"
      ],
      "metadata": {
        "colab": {
          "base_uri": "https://localhost:8080/"
        },
        "id": "BFP8jPX8ZSzr",
        "outputId": "4fb69162-4292-4466-819f-cc70a8caed7f"
      },
      "execution_count": null,
      "outputs": [
        {
          "output_type": "stream",
          "name": "stdout",
          "text": [
            "A marca com maior autonomia é a toyota com 63.04222321163494 de autonomia\n"
          ]
        }
      ]
    },
    {
      "cell_type": "markdown",
      "source": [
        "**QUAL MARCA POSSUI O CARRO COM MENOR AUTONOMIA**"
      ],
      "metadata": {
        "id": "nTtLL9jAccoN"
      }
    },
    {
      "cell_type": "code",
      "source": [
        "menor,aux = retornaMenor(marcas_autonomia)\n",
        "print(\"A marca com menor autonomia é a \" + menor + \" com \" + str(aux) + \" de autonomia\")"
      ],
      "metadata": {
        "colab": {
          "base_uri": "https://localhost:8080/"
        },
        "id": "oW1nhbVua0V6",
        "outputId": "c4bd0fa3-1d5b-44f4-f2df-2a5fb4075507"
      },
      "execution_count": null,
      "outputs": [
        {
          "output_type": "stream",
          "name": "stdout",
          "text": [
            "A marca com menor autonomia é a audi com 50.77002249718893 de autonomia\n"
          ]
        }
      ]
    },
    {
      "cell_type": "code",
      "source": [
        "audi_price = audi['price'].mean()\n",
        "BMW_price = BMW['price'].mean()\n",
        "Ford_price = Ford['price'].mean()\n",
        "Hyundai_price = Hyundai['price'].mean()\n",
        "skoda_price = skoda['price'].mean()\n",
        "toyota_price = toyota['price'].mean()\n",
        "vw_price = vw['price'].mean()"
      ],
      "metadata": {
        "id": "Ka8ZKAvxck6d"
      },
      "execution_count": null,
      "outputs": []
    },
    {
      "cell_type": "code",
      "source": [
        "marcas_preco =\t{\n",
        "  \"audi\": audi_price,\n",
        "  \"BMW\": BMW_price,\n",
        "  \"Ford\": Ford_price,\n",
        "  \"Hyundai\": Hyundai_price,\n",
        "  \"skoda\": skoda_price,\n",
        "  \"toyota\": toyota_price,\n",
        "  \"vw\": vw_price\n",
        "}"
      ],
      "metadata": {
        "id": "lFo9y2FyckPy"
      },
      "execution_count": null,
      "outputs": []
    },
    {
      "cell_type": "markdown",
      "source": [
        "**QUAL MARCA POSSUI A MAIOR MÉDIA DE PREÇO**"
      ],
      "metadata": {
        "id": "Xv9NiXlDd1IT"
      }
    },
    {
      "cell_type": "code",
      "source": [
        "maior,valor = retornaMaior(marcas_preco)\n",
        "print(\"A marca com maior preço é a \" + maior + \" com $\" + str(round(valor,2)) + \" - (Valor em Dólares)\")"
      ],
      "metadata": {
        "colab": {
          "base_uri": "https://localhost:8080/"
        },
        "id": "MpPfSmYLc5UJ",
        "outputId": "1810cf92-6b0a-429a-b99e-6590c02c932a"
      },
      "execution_count": null,
      "outputs": [
        {
          "output_type": "stream",
          "name": "stdout",
          "text": [
            "A marca com maior preço é a audi com $22896.69 - (Valor em Dólares)\n"
          ]
        }
      ]
    },
    {
      "cell_type": "markdown",
      "source": [
        "**QUAL MARCA POSSUI A MENOR MÉDIA DE PREÇO**"
      ],
      "metadata": {
        "id": "FN1hgjtMd6D8"
      }
    },
    {
      "cell_type": "code",
      "source": [
        "menor,aux = retornaMenor(marcas_preco)\n",
        "print(\"A marca com menor preço é a \" + menor + \" com $\" + str(round(aux,2)) + \" - (Valor em Dólares)\")"
      ],
      "metadata": {
        "colab": {
          "base_uri": "https://localhost:8080/"
        },
        "id": "lnZnj876c5kN",
        "outputId": "f77a15c1-17bf-4bf8-9e02-f453b6be0845"
      },
      "execution_count": null,
      "outputs": [
        {
          "output_type": "stream",
          "name": "stdout",
          "text": [
            "A marca com menor preço é a Ford com $12280.08 - (Valor em Dólares)\n"
          ]
        }
      ]
    },
    {
      "cell_type": "code",
      "source": [
        "audi['result'] = audi['price']/audi['mpg']\n",
        "BMW['result'] = BMW['price']/BMW['mpg']\n",
        "Ford['result'] = Ford['price']/Ford['mpg']\n",
        "Hyundai['result'] = Hyundai['price']/Hyundai['mpg']\n",
        "skoda['result'] = skoda['price']/skoda['mpg']\n",
        "toyota['result'] = toyota['price']/toyota['mpg']\n",
        "vw['result'] = vw['price']/vw['mpg']"
      ],
      "metadata": {
        "id": "ygDgPyKSfATx"
      },
      "execution_count": null,
      "outputs": []
    },
    {
      "cell_type": "code",
      "source": [
        "marcas_custbnf =\t{\n",
        "  \"audi\": audi['result'].mean(),\n",
        "  \"BMW\": BMW['result'].mean(),\n",
        "  \"Ford\": Ford['result'].mean(),\n",
        "  \"Hyundai\": Hyundai['result'].mean(),\n",
        "  \"skoda\": skoda['result'].mean(),\n",
        "  \"toyota\": toyota['result'].mean(),\n",
        "  \"vw\": vw['result'].mean()\n",
        "}"
      ],
      "metadata": {
        "id": "irRsvL3Df20n"
      },
      "execution_count": null,
      "outputs": []
    },
    {
      "cell_type": "markdown",
      "source": [
        "**QUAL MARCA POSSUI O CARRO COM MELHOR CUSTO BENEFICIO**"
      ],
      "metadata": {
        "id": "baNkUY8ohT0f"
      }
    },
    {
      "cell_type": "code",
      "source": [
        "menor,valor = retornaMenor(marcas_custbnf)\n",
        "print(\"A marca com melhor custo beneficio é a \" + menor + \" com \" + str(round(valor,2)) + \" - (Valor pago / Autonomia)\")"
      ],
      "metadata": {
        "colab": {
          "base_uri": "https://localhost:8080/"
        },
        "id": "Hf4vqQUSgAuL",
        "outputId": "9912a0d6-9f0a-4862-e651-076ffe77ae44"
      },
      "execution_count": null,
      "outputs": [
        {
          "output_type": "stream",
          "name": "stdout",
          "text": [
            "A marca com melhor custo beneficio é a Ford com 226.62 - (Valor pago / Autonomia)\n"
          ]
        }
      ]
    },
    {
      "cell_type": "markdown",
      "source": [
        "**QUAL MARCA POSSUI O CARRO COM PIOR CUSTO BENEFICIO**"
      ],
      "metadata": {
        "id": "aQwq5rMKhUTA"
      }
    },
    {
      "cell_type": "code",
      "source": [
        "maior,aux = retornaMaior(marcas_custbnf)\n",
        "print(\"A marca com melhor pior beneficio é a \" + maior + \" com \" + str(round(aux,2)) + \" - (Valor pago / Autonomia)\")"
      ],
      "metadata": {
        "colab": {
          "base_uri": "https://localhost:8080/"
        },
        "id": "1jI6BwUqgUdU",
        "outputId": "752efaf8-1112-450c-a6d7-f72135daa527"
      },
      "execution_count": null,
      "outputs": [
        {
          "output_type": "stream",
          "name": "stdout",
          "text": [
            "A marca com melhor pior beneficio é a audi com 522.54 - (Valor pago / Autonomia)\n"
          ]
        }
      ]
    },
    {
      "cell_type": "markdown",
      "source": [
        "**GRÁFICOS**"
      ],
      "metadata": {
        "id": "-E_wBNFmEEka"
      }
    },
    {
      "cell_type": "markdown",
      "source": [
        "GRÁFICO DE AUTONOMIA POR MARCA"
      ],
      "metadata": {
        "id": "8BgL3kQpFw2S"
      }
    },
    {
      "cell_type": "code",
      "source": [
        "plt.bar(*zip(*marcas_autonomia.items()))\n",
        "plt.legend\n",
        "plt.show()"
      ],
      "metadata": {
        "colab": {
          "base_uri": "https://localhost:8080/",
          "height": 265
        },
        "id": "cGyGmr52FxM1",
        "outputId": "7388f852-2799-4abf-ccdf-6974e33cef4c"
      },
      "execution_count": null,
      "outputs": [
        {
          "output_type": "display_data",
          "data": {
            "image/png": "[encoded data removed]",
            "text/plain": [
              "<Figure size 432x288 with 1 Axes>"
            ]
          },
          "metadata": {
            "needs_background": "light"
          }
        }
      ]
    },
    {
      "cell_type": "markdown",
      "source": [
        "GRÁFICO DE PREÇO POR MARCA"
      ],
      "metadata": {
        "id": "LW77a-WbFxmT"
      }
    },
    {
      "cell_type": "code",
      "source": [
        "plt.bar(*zip(*marcas_preco.items()))\n",
        "plt.show()"
      ],
      "metadata": {
        "colab": {
          "base_uri": "https://localhost:8080/",
          "height": 265
        },
        "id": "jnO2H_T3Fx_m",
        "outputId": "738d8a28-f223-4d01-9708-260170c6f933"
      },
      "execution_count": null,
      "outputs": [
        {
          "output_type": "display_data",
          "data": {
            "image/png": "[encoded data removed]",
            "text/plain": [
              "<Figure size 432x288 with 1 Axes>"
            ]
          },
          "metadata": {
            "needs_background": "light"
          }
        }
      ]
    },
    {
      "cell_type": "markdown",
      "source": [
        "GRÁFICO DE CUSTO BENEFÍCIO POR MARCA\n",
        "\n"
      ],
      "metadata": {
        "id": "a196nPjFFcI9"
      }
    },
    {
      "cell_type": "code",
      "source": [
        "plt.bar(*zip(*marcas_custbnf.items()))\n",
        "plt.show()"
      ],
      "metadata": {
        "colab": {
          "base_uri": "https://localhost:8080/",
          "height": 265
        },
        "id": "HfFjH5zxEJ-V",
        "outputId": "ad31ecc2-c171-46d9-8383-f8381f1c5133"
      },
      "execution_count": null,
      "outputs": [
        {
          "output_type": "display_data",
          "data": {
            "image/png": "[encoded data removed]",
            "text/plain": [
              "<Figure size 432x288 with 1 Axes>"
            ]
          },
          "metadata": {
            "needs_background": "light"
          }
        }
      ]
    }
  ]
}